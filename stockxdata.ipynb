{
 "cells": [
  {
   "cell_type": "markdown",
   "id": "f6c28c8d",
   "metadata": {},
   "source": [
    "### Import StockX 2019 Data"
   ]
  },
  {
   "cell_type": "code",
   "execution_count": 1,
   "id": "d155ea52",
   "metadata": {},
   "outputs": [],
   "source": [
    "import pandas as pd\n",
    "import matplotlib.pyplot as plt\n",
    "\n",
    "df = pd.read_csv(r'C:\\Users\\Playtech\\Desktop\\StockX-Data-Contest-2019-3.csv')\n"
   ]
  },
  {
   "cell_type": "markdown",
   "id": "3d4011fc",
   "metadata": {},
   "source": [
    "### Converting data types"
   ]
  },
  {
   "cell_type": "code",
   "execution_count": 2,
   "id": "aab376d0",
   "metadata": {},
   "outputs": [],
   "source": [
    "df['Sale Price'] = df['Sale Price'].replace('[\\$,]', '', regex=True).astype(float)\n",
    "df['Retail Price'] = df['Retail Price'].replace('[\\$,]', '', regex=True).astype(float)\n",
    "df['Order Date'] = pd.to_datetime(df['Order Date'])\n",
    "df['Release Date'] = pd.to_datetime(df['Release Date'])"
   ]
  },
  {
   "cell_type": "markdown",
   "id": "18d1e32c",
   "metadata": {},
   "source": [
    "### Add in Profit and Profit Margin % columns"
   ]
  },
  {
   "cell_type": "code",
   "execution_count": 3,
   "id": "de0859b3",
   "metadata": {},
   "outputs": [],
   "source": [
    "df['Profit'] = df['Sale Price'] - df['Retail Price']\n",
    "df['Profit Margin %'] = (( df['Sale Price'] - df['Retail Price'] ) /  df['Retail Price']) * 100"
   ]
  },
  {
   "cell_type": "markdown",
   "id": "0d276c80",
   "metadata": {},
   "source": [
    "\n",
    "### Add in Month and Year columns\n"
   ]
  },
  {
   "cell_type": "code",
   "execution_count": 4,
   "id": "2bcd795a",
   "metadata": {},
   "outputs": [
    {
     "data": {
      "text/html": [
       "<div>\n",
       "<style scoped>\n",
       "    .dataframe tbody tr th:only-of-type {\n",
       "        vertical-align: middle;\n",
       "    }\n",
       "\n",
       "    .dataframe tbody tr th {\n",
       "        vertical-align: top;\n",
       "    }\n",
       "\n",
       "    .dataframe thead th {\n",
       "        text-align: right;\n",
       "    }\n",
       "</style>\n",
       "<table border=\"1\" class=\"dataframe\">\n",
       "  <thead>\n",
       "    <tr style=\"text-align: right;\">\n",
       "      <th></th>\n",
       "      <th>Order Date</th>\n",
       "      <th>Brand</th>\n",
       "      <th>Sneaker Name</th>\n",
       "      <th>Sale Price</th>\n",
       "      <th>Retail Price</th>\n",
       "      <th>Release Date</th>\n",
       "      <th>Shoe Size</th>\n",
       "      <th>Buyer Region</th>\n",
       "      <th>Profit</th>\n",
       "      <th>Profit Margin %</th>\n",
       "      <th>Year</th>\n",
       "      <th>Month</th>\n",
       "    </tr>\n",
       "  </thead>\n",
       "  <tbody>\n",
       "    <tr>\n",
       "      <th>0</th>\n",
       "      <td>2017-09-01</td>\n",
       "      <td>Yeezy</td>\n",
       "      <td>Adidas-Yeezy-Boost-350-Low-V2-Beluga</td>\n",
       "      <td>1097.0</td>\n",
       "      <td>220.0</td>\n",
       "      <td>2016-09-24</td>\n",
       "      <td>11.0</td>\n",
       "      <td>California</td>\n",
       "      <td>877.0</td>\n",
       "      <td>398.636364</td>\n",
       "      <td>2017</td>\n",
       "      <td>9</td>\n",
       "    </tr>\n",
       "    <tr>\n",
       "      <th>1</th>\n",
       "      <td>2017-09-01</td>\n",
       "      <td>Yeezy</td>\n",
       "      <td>Adidas-Yeezy-Boost-350-V2-Core-Black-Copper</td>\n",
       "      <td>685.0</td>\n",
       "      <td>220.0</td>\n",
       "      <td>2016-11-23</td>\n",
       "      <td>11.0</td>\n",
       "      <td>California</td>\n",
       "      <td>465.0</td>\n",
       "      <td>211.363636</td>\n",
       "      <td>2017</td>\n",
       "      <td>9</td>\n",
       "    </tr>\n",
       "    <tr>\n",
       "      <th>2</th>\n",
       "      <td>2017-09-01</td>\n",
       "      <td>Yeezy</td>\n",
       "      <td>Adidas-Yeezy-Boost-350-V2-Core-Black-Green</td>\n",
       "      <td>690.0</td>\n",
       "      <td>220.0</td>\n",
       "      <td>2016-11-23</td>\n",
       "      <td>11.0</td>\n",
       "      <td>California</td>\n",
       "      <td>470.0</td>\n",
       "      <td>213.636364</td>\n",
       "      <td>2017</td>\n",
       "      <td>9</td>\n",
       "    </tr>\n",
       "    <tr>\n",
       "      <th>3</th>\n",
       "      <td>2017-09-01</td>\n",
       "      <td>Yeezy</td>\n",
       "      <td>Adidas-Yeezy-Boost-350-V2-Core-Black-Red</td>\n",
       "      <td>1075.0</td>\n",
       "      <td>220.0</td>\n",
       "      <td>2016-11-23</td>\n",
       "      <td>11.5</td>\n",
       "      <td>Kentucky</td>\n",
       "      <td>855.0</td>\n",
       "      <td>388.636364</td>\n",
       "      <td>2017</td>\n",
       "      <td>9</td>\n",
       "    </tr>\n",
       "    <tr>\n",
       "      <th>4</th>\n",
       "      <td>2017-09-01</td>\n",
       "      <td>Yeezy</td>\n",
       "      <td>Adidas-Yeezy-Boost-350-V2-Core-Black-Red-2017</td>\n",
       "      <td>828.0</td>\n",
       "      <td>220.0</td>\n",
       "      <td>2017-02-11</td>\n",
       "      <td>11.0</td>\n",
       "      <td>Rhode Island</td>\n",
       "      <td>608.0</td>\n",
       "      <td>276.363636</td>\n",
       "      <td>2017</td>\n",
       "      <td>9</td>\n",
       "    </tr>\n",
       "  </tbody>\n",
       "</table>\n",
       "</div>"
      ],
      "text/plain": [
       "  Order Date   Brand                                   Sneaker Name  \\\n",
       "0 2017-09-01   Yeezy           Adidas-Yeezy-Boost-350-Low-V2-Beluga   \n",
       "1 2017-09-01   Yeezy    Adidas-Yeezy-Boost-350-V2-Core-Black-Copper   \n",
       "2 2017-09-01   Yeezy     Adidas-Yeezy-Boost-350-V2-Core-Black-Green   \n",
       "3 2017-09-01   Yeezy       Adidas-Yeezy-Boost-350-V2-Core-Black-Red   \n",
       "4 2017-09-01   Yeezy  Adidas-Yeezy-Boost-350-V2-Core-Black-Red-2017   \n",
       "\n",
       "   Sale Price  Retail Price Release Date  Shoe Size  Buyer Region  Profit  \\\n",
       "0      1097.0         220.0   2016-09-24       11.0    California   877.0   \n",
       "1       685.0         220.0   2016-11-23       11.0    California   465.0   \n",
       "2       690.0         220.0   2016-11-23       11.0    California   470.0   \n",
       "3      1075.0         220.0   2016-11-23       11.5      Kentucky   855.0   \n",
       "4       828.0         220.0   2017-02-11       11.0  Rhode Island   608.0   \n",
       "\n",
       "   Profit Margin %  Year  Month  \n",
       "0       398.636364  2017      9  \n",
       "1       211.363636  2017      9  \n",
       "2       213.636364  2017      9  \n",
       "3       388.636364  2017      9  \n",
       "4       276.363636  2017      9  "
      ]
     },
     "execution_count": 4,
     "metadata": {},
     "output_type": "execute_result"
    }
   ],
   "source": [
    "df['Year'] = pd.to_datetime(df['Order Date']).dt.year\n",
    "df['Month'] = pd.to_datetime(df['Order Date']).dt.month\n",
    "df.head()"
   ]
  },
  {
   "cell_type": "markdown",
   "id": "6599f134",
   "metadata": {},
   "source": [
    "### Calculate and show sum of profit per month"
   ]
  },
  {
   "cell_type": "code",
   "execution_count": 18,
   "id": "96160552",
   "metadata": {},
   "outputs": [
    {
     "data": {
      "image/png": "[encoded data removed]",
      "text/plain": [
       "<Figure size 432x288 with 1 Axes>"
      ]
     },
     "metadata": {
      "needs_background": "light"
     },
     "output_type": "display_data"
    }
   ],
   "source": [
    "profit_per_month = df.groupby('Month').sum()['Profit']\n",
    "months = range(1,13)\n",
    "\n",
    "plt.bar(months, profit_per_month)\n",
    "plt.xticks(months)\n",
    "plt.xlabel('Months')\n",
    "plt.ylabel('Total Profit')\n",
    "plt.show()"
   ]
  },
  {
   "cell_type": "code",
   "execution_count": 19,
   "id": "0e5c0926",
   "metadata": {},
   "outputs": [
    {
     "data": {
      "image/png": "[encoded data removed]",
      "text/plain": [
       "<Figure size 432x288 with 1 Axes>"
      ]
     },
     "metadata": {
      "needs_background": "light"
     },
     "output_type": "display_data"
    }
   ],
   "source": [
    "sales_per_month = df.groupby('Month').sum()['Sale Price']\n",
    "months = range(1,13)\n",
    "\n",
    "plt.bar(months, sales_per_month)\n",
    "plt.xticks(months)\n",
    "plt.xlabel('Months')\n",
    "plt.ylabel('Total Sales')\n",
    "plt.show()"
   ]
  },
  {
   "cell_type": "markdown",
   "id": "45f4272c",
   "metadata": {},
   "source": [
    "### Calculate the number of sales made per month"
   ]
  },
  {
   "cell_type": "code",
   "execution_count": 6,
   "id": "dcce421a",
   "metadata": {},
   "outputs": [
    {
     "data": {
      "image/png": "[encoded data removed]",
      "text/plain": [
       "<Figure size 432x288 with 1 Axes>"
      ]
     },
     "metadata": {
      "needs_background": "light"
     },
     "output_type": "display_data"
    }
   ],
   "source": [
    "count_per_month = df.groupby('Month').count()['Order Date']\n",
    "months = range(1,13)\n",
    "\n",
    "plt.bar(months, count_per_month)\n",
    "plt.xticks(months)\n",
    "plt.xlabel('Months')\n",
    "plt.ylabel('Number of Sales')\n",
    "plt.show()"
   ]
  },
  {
   "cell_type": "markdown",
   "id": "8877d119",
   "metadata": {},
   "source": [
    "From this we can see that sales drop during spring, picking back up during summer and peaking during the holiday season, at the end of the year."
   ]
  },
  {
   "cell_type": "markdown",
   "id": "61068c3d",
   "metadata": {},
   "source": [
    "#### Show total sales count, sales, and profit for each brand."
   ]
  },
  {
   "cell_type": "code",
   "execution_count": 70,
   "id": "6e4a9967",
   "metadata": {},
   "outputs": [
    {
     "data": {
      "text/html": [
       "<div>\n",
       "<style scoped>\n",
       "    .dataframe tbody tr th:only-of-type {\n",
       "        vertical-align: middle;\n",
       "    }\n",
       "\n",
       "    .dataframe tbody tr th {\n",
       "        vertical-align: top;\n",
       "    }\n",
       "\n",
       "    .dataframe thead th {\n",
       "        text-align: right;\n",
       "    }\n",
       "</style>\n",
       "<table border=\"1\" class=\"dataframe\">\n",
       "  <thead>\n",
       "    <tr style=\"text-align: right;\">\n",
       "      <th></th>\n",
       "      <th>Sneaker Name</th>\n",
       "      <th>Sale Price</th>\n",
       "      <th>Profit</th>\n",
       "    </tr>\n",
       "    <tr>\n",
       "      <th>Brand</th>\n",
       "      <th></th>\n",
       "      <th></th>\n",
       "      <th></th>\n",
       "    </tr>\n",
       "  </thead>\n",
       "  <tbody>\n",
       "    <tr>\n",
       "      <th>Yeezy</th>\n",
       "      <td>72162</td>\n",
       "      <td>25980669.0</td>\n",
       "      <td>10114129.0</td>\n",
       "    </tr>\n",
       "    <tr>\n",
       "      <th>Off-White</th>\n",
       "      <td>27794</td>\n",
       "      <td>18663151.0</td>\n",
       "      <td>13677511.0</td>\n",
       "    </tr>\n",
       "  </tbody>\n",
       "</table>\n",
       "</div>"
      ],
      "text/plain": [
       "           Sneaker Name  Sale Price      Profit\n",
       "Brand                                          \n",
       " Yeezy            72162  25980669.0  10114129.0\n",
       "Off-White         27794  18663151.0  13677511.0"
      ]
     },
     "execution_count": 70,
     "metadata": {},
     "output_type": "execute_result"
    }
   ],
   "source": [
    "\n",
    "df.groupby('Brand').agg({'Sneaker Name':'count', 'Sale Price': 'sum','Profit': 'sum'}).head()"
   ]
  },
  {
   "cell_type": "markdown",
   "id": "6ab12589",
   "metadata": {},
   "source": [
    "Yeezys sold nearly 3 times more, made more sales but loses out on total profit."
   ]
  },
  {
   "cell_type": "markdown",
   "id": "d22d9eb5",
   "metadata": {},
   "source": [
    "#### Let's look at the top 10 selling sneakers"
   ]
  },
  {
   "cell_type": "code",
   "execution_count": 36,
   "id": "6172a9ff",
   "metadata": {},
   "outputs": [
    {
     "data": {
      "text/html": [
       "<div>\n",
       "<style scoped>\n",
       "    .dataframe tbody tr th:only-of-type {\n",
       "        vertical-align: middle;\n",
       "    }\n",
       "\n",
       "    .dataframe tbody tr th {\n",
       "        vertical-align: top;\n",
       "    }\n",
       "\n",
       "    .dataframe thead th {\n",
       "        text-align: right;\n",
       "    }\n",
       "</style>\n",
       "<table border=\"1\" class=\"dataframe\">\n",
       "  <thead>\n",
       "    <tr style=\"text-align: right;\">\n",
       "      <th></th>\n",
       "      <th>Sneaker Name</th>\n",
       "      <th>count</th>\n",
       "    </tr>\n",
       "  </thead>\n",
       "  <tbody>\n",
       "    <tr>\n",
       "      <th>47</th>\n",
       "      <td>adidas-Yeezy-Boost-350-V2-Butter</td>\n",
       "      <td>11423</td>\n",
       "    </tr>\n",
       "    <tr>\n",
       "      <th>6</th>\n",
       "      <td>Adidas-Yeezy-Boost-350-V2-Beluga-2pt0</td>\n",
       "      <td>10395</td>\n",
       "    </tr>\n",
       "    <tr>\n",
       "      <th>16</th>\n",
       "      <td>Adidas-Yeezy-Boost-350-V2-Zebra</td>\n",
       "      <td>10110</td>\n",
       "    </tr>\n",
       "    <tr>\n",
       "      <th>7</th>\n",
       "      <td>Adidas-Yeezy-Boost-350-V2-Blue-Tint</td>\n",
       "      <td>9297</td>\n",
       "    </tr>\n",
       "    <tr>\n",
       "      <th>13</th>\n",
       "      <td>Adidas-Yeezy-Boost-350-V2-Cream-White</td>\n",
       "      <td>9097</td>\n",
       "    </tr>\n",
       "    <tr>\n",
       "      <th>15</th>\n",
       "      <td>Adidas-Yeezy-Boost-350-V2-Sesame</td>\n",
       "      <td>5553</td>\n",
       "    </tr>\n",
       "    <tr>\n",
       "      <th>48</th>\n",
       "      <td>adidas-Yeezy-Boost-350-V2-Static</td>\n",
       "      <td>4983</td>\n",
       "    </tr>\n",
       "    <tr>\n",
       "      <th>14</th>\n",
       "      <td>Adidas-Yeezy-Boost-350-V2-Semi-Frozen-Yellow</td>\n",
       "      <td>4854</td>\n",
       "    </tr>\n",
       "    <tr>\n",
       "      <th>18</th>\n",
       "      <td>Air-Jordan-1-Retro-High-Off-White-University-Blue</td>\n",
       "      <td>4635</td>\n",
       "    </tr>\n",
       "    <tr>\n",
       "      <th>49</th>\n",
       "      <td>adidas-Yeezy-Boost-350-V2-Static-Reflective</td>\n",
       "      <td>3184</td>\n",
       "    </tr>\n",
       "  </tbody>\n",
       "</table>\n",
       "</div>"
      ],
      "text/plain": [
       "                                         Sneaker Name  count\n",
       "47                   adidas-Yeezy-Boost-350-V2-Butter  11423\n",
       "6               Adidas-Yeezy-Boost-350-V2-Beluga-2pt0  10395\n",
       "16                    Adidas-Yeezy-Boost-350-V2-Zebra  10110\n",
       "7                 Adidas-Yeezy-Boost-350-V2-Blue-Tint   9297\n",
       "13              Adidas-Yeezy-Boost-350-V2-Cream-White   9097\n",
       "15                   Adidas-Yeezy-Boost-350-V2-Sesame   5553\n",
       "48                   adidas-Yeezy-Boost-350-V2-Static   4983\n",
       "14       Adidas-Yeezy-Boost-350-V2-Semi-Frozen-Yellow   4854\n",
       "18  Air-Jordan-1-Retro-High-Off-White-University-Blue   4635\n",
       "49        adidas-Yeezy-Boost-350-V2-Static-Reflective   3184"
      ]
     },
     "execution_count": 36,
     "metadata": {},
     "output_type": "execute_result"
    }
   ],
   "source": [
    "product_count = df.groupby('Sneaker Name').count()['Order Date'].reset_index(name='count')\n",
    "product_count.sort_values('count', ascending=False).head(10)\n",
    "#products_count.sort_values('Sneaker Name', ascending=False)"
   ]
  },
  {
   "cell_type": "markdown",
   "id": "cfac817b",
   "metadata": {},
   "source": [
    "We can see that 9 out of 10 sneakers are from Adidas and only 1 from Off-White.\n",
    "As seen previously, Yeezys sold more but Off-White made more on sales and profit.\n",
    "From this we can assume that the Sale Price for Off-White products are much higher than the products from Yeezy."
   ]
  },
  {
   "cell_type": "markdown",
   "id": "ab05e8d0",
   "metadata": {},
   "source": [
    "### Let's find out what could be the cause of this\n",
    "#### Let's look at the mean sale price of both brands."
   ]
  },
  {
   "cell_type": "code",
   "execution_count": 85,
   "id": "29d41510",
   "metadata": {},
   "outputs": [
    {
     "data": {
      "text/html": [
       "<div>\n",
       "<style scoped>\n",
       "    .dataframe tbody tr th:only-of-type {\n",
       "        vertical-align: middle;\n",
       "    }\n",
       "\n",
       "    .dataframe tbody tr th {\n",
       "        vertical-align: top;\n",
       "    }\n",
       "\n",
       "    .dataframe thead th {\n",
       "        text-align: right;\n",
       "    }\n",
       "</style>\n",
       "<table border=\"1\" class=\"dataframe\">\n",
       "  <thead>\n",
       "    <tr style=\"text-align: right;\">\n",
       "      <th></th>\n",
       "      <th>Brand</th>\n",
       "      <th>Mean sale price</th>\n",
       "    </tr>\n",
       "  </thead>\n",
       "  <tbody>\n",
       "    <tr>\n",
       "      <th>0</th>\n",
       "      <td>Yeezy</td>\n",
       "      <td>360.03</td>\n",
       "    </tr>\n",
       "    <tr>\n",
       "      <th>1</th>\n",
       "      <td>Off-White</td>\n",
       "      <td>671.48</td>\n",
       "    </tr>\n",
       "  </tbody>\n",
       "</table>\n",
       "</div>"
      ],
      "text/plain": [
       "       Brand  Mean sale price\n",
       "0      Yeezy           360.03\n",
       "1  Off-White           671.48"
      ]
     },
     "execution_count": 85,
     "metadata": {},
     "output_type": "execute_result"
    }
   ],
   "source": [
    "df.groupby('Brand')['Sale Price'].mean().reset_index(name='Mean sale price').round(2).head()\n"
   ]
  },
  {
   "cell_type": "markdown",
   "id": "11aae430",
   "metadata": {},
   "source": [
    "#### Mean profit margin %"
   ]
  },
  {
   "cell_type": "code",
   "execution_count": 126,
   "id": "f266a5d7",
   "metadata": {},
   "outputs": [
    {
     "data": {
      "text/html": [
       "<div>\n",
       "<style scoped>\n",
       "    .dataframe tbody tr th:only-of-type {\n",
       "        vertical-align: middle;\n",
       "    }\n",
       "\n",
       "    .dataframe tbody tr th {\n",
       "        vertical-align: top;\n",
       "    }\n",
       "\n",
       "    .dataframe thead th {\n",
       "        text-align: right;\n",
       "    }\n",
       "</style>\n",
       "<table border=\"1\" class=\"dataframe\">\n",
       "  <thead>\n",
       "    <tr style=\"text-align: right;\">\n",
       "      <th></th>\n",
       "      <th>Brand</th>\n",
       "      <th>Mean Profit Margin</th>\n",
       "    </tr>\n",
       "  </thead>\n",
       "  <tbody>\n",
       "    <tr>\n",
       "      <th>0</th>\n",
       "      <td>Yeezy</td>\n",
       "      <td>63.95</td>\n",
       "    </tr>\n",
       "    <tr>\n",
       "      <th>1</th>\n",
       "      <td>Off-White</td>\n",
       "      <td>282.87</td>\n",
       "    </tr>\n",
       "  </tbody>\n",
       "</table>\n",
       "</div>"
      ],
      "text/plain": [
       "       Brand  Mean Profit Margin\n",
       "0      Yeezy               63.95\n",
       "1  Off-White              282.87"
      ]
     },
     "execution_count": 126,
     "metadata": {},
     "output_type": "execute_result"
    }
   ],
   "source": [
    "df.groupby('Brand')['Profit Margin %'].mean().reset_index(name='Mean Profit Margin').round(2).head()"
   ]
  },
  {
   "cell_type": "markdown",
   "id": "9dc4246c",
   "metadata": {},
   "source": [
    "#### The number of unique products for each brand"
   ]
  },
  {
   "cell_type": "code",
   "execution_count": 125,
   "id": "1afb478b",
   "metadata": {},
   "outputs": [
    {
     "data": {
      "text/html": [
       "<div>\n",
       "<style scoped>\n",
       "    .dataframe tbody tr th:only-of-type {\n",
       "        vertical-align: middle;\n",
       "    }\n",
       "\n",
       "    .dataframe tbody tr th {\n",
       "        vertical-align: top;\n",
       "    }\n",
       "\n",
       "    .dataframe thead th {\n",
       "        text-align: right;\n",
       "    }\n",
       "</style>\n",
       "<table border=\"1\" class=\"dataframe\">\n",
       "  <thead>\n",
       "    <tr style=\"text-align: right;\">\n",
       "      <th></th>\n",
       "      <th>Sneaker Name</th>\n",
       "    </tr>\n",
       "    <tr>\n",
       "      <th>Brand</th>\n",
       "      <th></th>\n",
       "    </tr>\n",
       "  </thead>\n",
       "  <tbody>\n",
       "    <tr>\n",
       "      <th>Yeezy</th>\n",
       "      <td>20</td>\n",
       "    </tr>\n",
       "    <tr>\n",
       "      <th>Off-White</th>\n",
       "      <td>30</td>\n",
       "    </tr>\n",
       "  </tbody>\n",
       "</table>\n",
       "</div>"
      ],
      "text/plain": [
       "           Sneaker Name\n",
       "Brand                  \n",
       " Yeezy               20\n",
       "Off-White            30"
      ]
     },
     "execution_count": 125,
     "metadata": {},
     "output_type": "execute_result"
    }
   ],
   "source": [
    "df.groupby('Brand').agg({'Sneaker Name':'nunique'})"
   ]
  },
  {
   "cell_type": "markdown",
   "id": "b61d0220",
   "metadata": {},
   "source": [
    "We can see there are less Yeezy products being sold than Off-White but more Yeezys have sold over time. This may be the case due to Yeezys having a lower mean sale price thus being more affordable to more people.\n",
    "\n",
    "Off-Whites products having a higher mean sale price and profit margin could be due to supply and demand. As the sale price (resell price) for a pair of sneakers are determined by it. Low supply, high demand means a high resell value which means more profit.\n",
    "\n",
    "However, the StockX platform which generates income through commission would be more interested in total sales price rather than the profit. Therefore to StockX, Yeezys would generate more income for them as they have a higher total sales than Off-White.\n"
   ]
  },
  {
   "cell_type": "markdown",
   "id": "12ac6da2",
   "metadata": {},
   "source": [
    "### Finally let's look at sales per region"
   ]
  },
  {
   "cell_type": "code",
   "execution_count": 118,
   "id": "c6f87621",
   "metadata": {},
   "outputs": [
    {
     "data": {
      "text/html": [
       "<div>\n",
       "<style scoped>\n",
       "    .dataframe tbody tr th:only-of-type {\n",
       "        vertical-align: middle;\n",
       "    }\n",
       "\n",
       "    .dataframe tbody tr th {\n",
       "        vertical-align: top;\n",
       "    }\n",
       "\n",
       "    .dataframe thead th {\n",
       "        text-align: right;\n",
       "    }\n",
       "</style>\n",
       "<table border=\"1\" class=\"dataframe\">\n",
       "  <thead>\n",
       "    <tr style=\"text-align: right;\">\n",
       "      <th></th>\n",
       "      <th>Buyer Region</th>\n",
       "      <th>count</th>\n",
       "    </tr>\n",
       "  </thead>\n",
       "  <tbody>\n",
       "    <tr>\n",
       "      <th>0</th>\n",
       "      <td>California</td>\n",
       "      <td>19349</td>\n",
       "    </tr>\n",
       "    <tr>\n",
       "      <th>1</th>\n",
       "      <td>New York</td>\n",
       "      <td>16525</td>\n",
       "    </tr>\n",
       "    <tr>\n",
       "      <th>2</th>\n",
       "      <td>Oregon</td>\n",
       "      <td>7681</td>\n",
       "    </tr>\n",
       "    <tr>\n",
       "      <th>3</th>\n",
       "      <td>Florida</td>\n",
       "      <td>6376</td>\n",
       "    </tr>\n",
       "    <tr>\n",
       "      <th>4</th>\n",
       "      <td>Texas</td>\n",
       "      <td>5876</td>\n",
       "    </tr>\n",
       "  </tbody>\n",
       "</table>\n",
       "</div>"
      ],
      "text/plain": [
       "  Buyer Region  count\n",
       "0   California  19349\n",
       "1     New York  16525\n",
       "2       Oregon   7681\n",
       "3      Florida   6376\n",
       "4        Texas   5876"
      ]
     },
     "execution_count": 118,
     "metadata": {},
     "output_type": "execute_result"
    }
   ],
   "source": [
    "df.groupby('Buyer Region')['Buyer Region'].count().sort_values(ascending=False).reset_index(name='count').head()"
   ]
  },
  {
   "cell_type": "code",
   "execution_count": 119,
   "id": "393ce42a",
   "metadata": {},
   "outputs": [
    {
     "data": {
      "image/png": "[encoded data removed]",
      "text/plain": [
       "<Figure size 1080x360 with 1 Axes>"
      ]
     },
     "metadata": {
      "needs_background": "light"
     },
     "output_type": "display_data"
    }
   ],
   "source": [
    "sale_per_region = df.groupby('Buyer Region')['Buyer Region'].count().reset_index(name='count')\n",
    "regions = [region for region, df in df.groupby('Buyer Region')]\n",
    "\n",
    "plt.plot(regions, sale_per_region['count'])\n",
    "plt.xticks(rotation=90,fontsize=14)\n",
    "plt.rcParams[\"figure.figsize\"] = (15,5)\n",
    "plt.show()"
   ]
  },
  {
   "cell_type": "markdown",
   "id": "19c3bc47",
   "metadata": {},
   "source": [
    "We can see that California has the highest number of sales followed by New York. This likely due to poopulation size of each region.\n"
   ]
  }
 ],
 "metadata": {
  "kernelspec": {
   "display_name": "Python 3 (ipykernel)",
   "language": "python",
   "name": "python3"
  },
  "language_info": {
   "codemirror_mode": {
    "name": "ipython",
    "version": 3
   },
   "file_extension": ".py",
   "mimetype": "text/x-python",
   "name": "python",
   "nbconvert_exporter": "python",
   "pygments_lexer": "ipython3",
   "version": "3.9.12"
  }
 },
 "nbformat": 4,
 "nbformat_minor": 5
}

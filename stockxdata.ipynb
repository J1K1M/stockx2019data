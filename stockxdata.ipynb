{
 "cells": [
  {
   "cell_type": "markdown",
   "id": "f6c28c8d",
   "metadata": {},
   "source": [
    "### Import StockX 2019 Data"
   ]
  },
  {
   "cell_type": "code",
   "execution_count": 63,
   "id": "d155ea52",
   "metadata": {},
   "outputs": [],
   "source": [
    "import pandas as pd\n",
    "import matplotlib.pyplot as plt\n",
    "\n",
    "df = pd.read_csv(r'C:\\Users\\Playtech\\Desktop\\StockX-Data-Contest-2019-3.csv')\n"
   ]
  },
  {
   "cell_type": "markdown",
   "id": "3d4011fc",
   "metadata": {},
   "source": [
    "### Converting data types for 'Sale Price' and 'Retail Price' to int for calculation"
   ]
  },
  {
   "cell_type": "code",
   "execution_count": 64,
   "id": "aab376d0",
   "metadata": {},
   "outputs": [],
   "source": [
    "df['Sale Price'] = df['Sale Price'].replace('[\\$,]', '', regex=True).astype(float)\n",
    "df['Retail Price'] = df['Retail Price'].replace('[\\$,]', '', regex=True).astype(float)"
   ]
  },
  {
   "cell_type": "markdown",
   "id": "18d1e32c",
   "metadata": {},
   "source": [
    "### Add in Profit and Profit Margin % columns"
   ]
  },
  {
   "cell_type": "code",
   "execution_count": 65,
   "id": "de0859b3",
   "metadata": {},
   "outputs": [],
   "source": [
    "df['Profit'] = df['Sale Price'] - df['Retail Price']\n",
    "df['Profit Margin %'] = (( df['Sale Price'] - df['Retail Price'] ) /  df['Retail Price']) * 100\n",
    "#df.round(2).head()"
   ]
  },
  {
   "cell_type": "markdown",
   "id": "0d276c80",
   "metadata": {},
   "source": [
    "### Add in Month and Year columns"
   ]
  },
  {
   "cell_type": "code",
   "execution_count": 66,
   "id": "2bcd795a",
   "metadata": {},
   "outputs": [],
   "source": [
    "df['Order Date'] = pd.to_datetime(df['Order Date'])\n",
    "df['Year'] = pd.to_datetime(df['Order Date']).dt.year\n",
    "df['Month'] = pd.to_datetime(df['Order Date']).dt.month"
   ]
  },
  {
   "cell_type": "markdown",
   "id": "6599f134",
   "metadata": {},
   "source": [
    "### Calculate and show sum of profit per month"
   ]
  },
  {
   "cell_type": "code",
   "execution_count": 74,
   "id": "96160552",
   "metadata": {},
   "outputs": [
    {
     "data": {
      "image/png": "[encoded data removed]",
      "text/plain": [
       "<Figure size 432x288 with 1 Axes>"
      ]
     },
     "metadata": {
      "needs_background": "light"
     },
     "output_type": "display_data"
    }
   ],
   "source": [
    "profit_per_month = df.groupby('Month').sum()['Profit']\n",
    "months = range(1,13)\n",
    "\n",
    "plt.bar(months, profit_per_month)\n",
    "plt.xticks(months)\n",
    "plt.xlabel('Months')\n",
    "plt.ylabel('Profit')\n",
    "plt.show()"
   ]
  },
  {
   "cell_type": "markdown",
   "id": "aa9b3178",
   "metadata": {},
   "source": [
    "### Find the number of sales made per month"
   ]
  },
  {
   "cell_type": "code",
   "execution_count": 82,
   "id": "063bce6a",
   "metadata": {},
   "outputs": [
    {
     "data": {
      "image/png": "[encoded data removed]",
      "text/plain": [
       "<Figure size 432x288 with 1 Axes>"
      ]
     },
     "metadata": {
      "needs_background": "light"
     },
     "output_type": "display_data"
    }
   ],
   "source": [
    "count_per_month = df.groupby('Month').count()['Order Date']\n",
    "months = range(1,13)\n",
    "\n",
    "plt.bar(months, count_per_month)\n",
    "plt.xticks(months)\n",
    "plt.xlabel('Months')\n",
    "plt.ylabel('Number of Sales')\n",
    "plt.show()"
   ]
  },
  {
   "cell_type": "markdown",
   "id": "00ba0bc2",
   "metadata": {},
   "source": [
    "#### Sales drop off during spring, getting back up around summer and peaking during the holiday period, the end of the year"
   ]
  },
  {
   "cell_type": "code",
   "execution_count": null,
   "id": "d0f4c2f1",
   "metadata": {},
   "outputs": [],
   "source": []
  }
 ],
 "metadata": {
  "kernelspec": {
   "display_name": "Python 3 (ipykernel)",
   "language": "python",
   "name": "python3"
  },
  "language_info": {
   "codemirror_mode": {
    "name": "ipython",
    "version": 3
   },
   "file_extension": ".py",
   "mimetype": "text/x-python",
   "name": "python",
   "nbconvert_exporter": "python",
   "pygments_lexer": "ipython3",
   "version": "3.9.12"
  }
 },
 "nbformat": 4,
 "nbformat_minor": 5
}
